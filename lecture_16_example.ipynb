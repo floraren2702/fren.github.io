{
 "cells": [
  {
   "cell_type": "markdown",
   "id": "5a131f57",
   "metadata": {},
   "source": [
    "# Lecture 16 Example"
   ]
  },
  {
   "cell_type": "markdown",
   "id": "22df9ff0-4b08-4376-846e-14ba225cc79f",
   "metadata": {
    "editable": true,
    "slideshow": {
     "slide_type": "slide"
    },
    "tags": []
   },
   "source": [
    "# Lecture 16: Python and Jupyter\n"
   ]
  },
  {
   "cell_type": "markdown",
   "id": "77cf2747",
   "metadata": {
    "editable": true,
    "slideshow": {
     "slide_type": "slide"
    },
    "tags": []
   },
   "source": [
    "## Spreadsheets vs. programming languages\n"
   ]
  },
  {
   "cell_type": "markdown",
   "id": "626d67b8",
   "metadata": {
    "editable": true,
    "slideshow": {
     "slide_type": "subslide"
    },
    "tags": []
   },
   "source": [
    "What do you like about spreadsheets?\n"
   ]
  },
  {
   "cell_type": "markdown",
   "id": "e34b0559",
   "metadata": {
    "editable": true,
    "slideshow": {
     "slide_type": "subslide"
    },
    "tags": []
   },
   "source": [
    "### Why spreadsheets\n",
    "\n",
    "- The easy stuff is easy\n",
    "- Lots of people know how to use them\n",
    "- Mostly just have to point, click, and scroll\n",
    "- Data and logic live together as one\n"
   ]
  },
  {
   "cell_type": "markdown",
   "id": "84dd7e43",
   "metadata": {
    "editable": true,
    "slideshow": {
     "slide_type": "subslide"
    },
    "tags": []
   },
   "source": [
    "### Why programming languages\n",
    "\n",
    "- Data and logic _don't_ live together\n",
    "  - Why might this matter?\n"
   ]
  },
  {
   "cell_type": "markdown",
   "id": "4db2060d",
   "metadata": {
    "editable": true,
    "slideshow": {
     "slide_type": "fragment"
    },
    "tags": []
   },
   "source": [
    "- More powerful, flexible, and expressive than spreadsheet formulas; don't have to cram into a single line\n",
    "\n",
    "  ```\n",
    "  =SUM(INDEX(C3:E9,MATCH(B13,C3:C9,0),MATCH(B14,C3:E3,0)))\n",
    "  ```\n",
    "\n",
    "- Better at working with large data\n",
    "  - [Google Sheets](https://support.google.com/drive/answer/37603) and [Excel](https://support.microsoft.com/en-us/office/excel-specifications-and-limits-1672b34d-7043-467e-8e27-269d656771c3) have hard limits at 1-5 million rows, but get slow long before that\n",
    "- Reusable code (packages)\n",
    "- Automation\n"
   ]
  },
  {
   "cell_type": "markdown",
   "id": "250f3f91",
   "metadata": {
    "editable": true,
    "slideshow": {
     "slide_type": "subslide"
    },
    "tags": []
   },
   "source": [
    "### Side-by-side<sup>1</sup>\n",
    "\n",
    "|                       Task |      Spreadsheets      | Programming Languages |\n",
    "| -------------------------: | :--------------------: | :-------------------: |\n",
    "|           **Loading data** |          Easy          |        Medium         |\n",
    "|           **Viewing data** |          Easy          |        Medium         |\n",
    "|         **Filtering data** |          Easy          |        Medium         |\n",
    "|      **Manipulating data** |         Medium         |        Medium         |\n",
    "|           **Joining data** |          Hard          |        Medium         |\n",
    "| **Complicated transforms** | Impossible<sup>2</sup> |        Medium         |\n",
    "|             **Automation** | Impossible<sup>2</sup> |        Medium         |\n",
    "|        **Making reusable** |  Limited<sup>3</sup>   |        Medium         |\n",
    "|         **Large datasets** |       Impossible       |         Hard          |\n",
    "\n",
    "1. These ratings are obviously subjective\n",
    "1. Not including scripting, including [Excel's new Python+pandas support](https://support.microsoft.com/en-us/office/introduction-to-python-in-excel-55643c2e-ff56-4168-b1ce-9428c8308545)\n",
    "1. [Google Sheets supports named functions](https://support.google.com/docs/answer/12504534)\n"
   ]
  },
  {
   "cell_type": "markdown",
   "id": "5226c0e9",
   "metadata": {
    "editable": true,
    "slideshow": {
     "slide_type": "slide"
    },
    "tags": []
   },
   "source": [
    "## Python vs. other languages\n",
    "\n",
    "- Good for general-purpose _and_ data stuff\n",
    "- Widely used in both industry and academia\n",
    "- Relatively easy to learn\n",
    "- Open source\n",
    "\n",
    "![Python logo](https://upload.wikimedia.org/wikipedia/commons/thumb/c/c3/Python-logo-notext.svg/110px-Python-logo-notext.svg.png)\n"
   ]
  },
  {
   "cell_type": "markdown",
   "id": "3495864c",
   "metadata": {
    "editable": true,
    "slideshow": {
     "slide_type": "slide"
    },
    "tags": []
   },
   "source": [
    "## Where to Python\n",
    "\n",
    "Pyton can be run in:\n",
    "\n",
    "- A text file, using the `python` command\n",
    "- [The interactive Python interpreter / command prompt / shell](https://www.python.org/shell/)\n",
    "- An [integrated development environment (IDE)](https://runestone.academy/ns/books/published/thinkcspy/Appendices/usingIDE.html), such as:\n",
    "  - VSCode\n",
    "  - [PyCharm](https://www.jetbrains.com/pycharm/)\n",
    "  - [Spyder](https://www.spyder-ide.org/)\n",
    "- A [Jupyter notebook](https://docs.jupyter.org/en/latest/#what-is-a-notebook)\n",
    "  - [Various other tools](https://python-public-policy.afeld.me/en/columbia/resources.html#jupyter-outside-this-course) are built around them\n",
    "  - What we'll be using for this class\n",
    "\n",
    "Each can be on your computer (\"local\"), or in the cloud somewhere. All call `python` under the hood, more or less.\n"
   ]
  },
  {
   "cell_type": "markdown",
   "id": "aa762046",
   "metadata": {
    "editable": true,
    "slideshow": {
     "slide_type": "slide"
    },
    "tags": []
   },
   "source": [
    "## Pandas\n",
    "\n",
    "- A Python package (bundled up code that you can reuse)\n",
    "- Very common for data science in Python\n",
    "- [A lot like R](https://pandas.pydata.org/docs/getting_started/comparison/comparison_with_r.html)\n",
    "  - Both organize around \"data frames\"\n"
   ]
  },
  {
   "cell_type": "markdown",
   "id": "e7fef35f",
   "metadata": {
    "editable": true,
    "slideshow": {
     "slide_type": "slide"
    },
    "tags": []
   },
   "source": [
    "## Jupyter\n",
    "\n",
    "- Alternative programming environment\n",
    "- Supports Python by default, and other languages with added [kernels](https://docs.jupyter.org/en/stable/projects/kernels.html)\n",
    "- Nicely displays output of your code so you can check and share the results\n",
    "- Avoids using the command line\n"
   ]
  },
  {
   "cell_type": "markdown",
   "id": "77227c4e",
   "metadata": {
    "editable": true,
    "slideshow": {
     "slide_type": "subslide"
    },
    "tags": []
   },
   "source": [
    "### Command line vs. Jupyter\n",
    "\n",
    "![Command line vs. Jupyter output](img/cli_vs_jupyter.png)\n"
   ]
  },
  {
   "cell_type": "markdown",
   "id": "e6042ec1",
   "metadata": {
    "slideshow": {
     "slide_type": "slide"
    }
   },
   "source": [
    "## [Lab 8](lab_8.ipynb) prep\n",
    "\n",
    "[Sign up for GitHub.](https://github.com/signup)\n",
    "\n",
    "- If you have an account already, [sign in](https://github.com/login).\n",
    "- A [Free plan](https://github.com/pricing) is sufficient.\n"
   ]
  },
  {
   "cell_type": "markdown",
   "id": "dd243c36",
   "metadata": {
    "slideshow": {
     "slide_type": "subslide"
    }
   },
   "source": [
    "### Repository setup\n",
    "\n",
    "Create a folder (on your computer) called `[username].github.io`.\n",
    "\n",
    "- Example: `afeld.github.io`\n",
    "- Do so _outside_ of your `computing-in-context/` (or equivalent) folder.\n",
    "  - Therefore, you'll have two parent folders for class:\n",
    "    - `computing-in-context/` (or equivalent)\n",
    "    - `[username].github.io`\n",
    "- This is preparing us to make a [\"user site\" on GitHub Pages](https://docs.github.com/en/pages/getting-started-with-github-pages/what-is-github-pages#types-of-github-pages-sites).\n",
    "  - If you already have one, use a `computing-in-context/` folder (new or existing) to make a [\"project site\"](https://docs.github.com/en/pages/getting-started-with-github-pages/what-is-github-pages#types-of-github-pages-sites).\n"
   ]
  },
  {
   "cell_type": "markdown",
   "id": "74b5a3a6",
   "metadata": {
    "slideshow": {
     "slide_type": "subslide"
    }
   },
   "source": [
    "1. [Open your `[username].github.io` folder in VSCode.](https://code.visualstudio.com/docs/getstarted/getting-started#_open-a-folder-in-vs-code)\n",
    "1. [Open a terminal.](https://code.visualstudio.com/docs/terminal/getting-started)\n",
    "1. In the terminal, [create a virtual environment](https://docs.python.org/3/library/venv.html#creating-virtual-environments).\n",
    "\n",
    "   ```sh\n",
    "   python -m venv .venv\n",
    "   ```\n"
   ]
  },
  {
   "cell_type": "markdown",
   "id": "c5be2752",
   "metadata": {
    "slideshow": {
     "slide_type": "subslide"
    }
   },
   "source": [
    "[Install the following packages.](notebooks.md#installing-packages)\n",
    "\n",
    "```\n",
    "ipykernel\n",
    "pandas\n",
    "plotly\n",
    "\n",
    "# needed for plotly\n",
    "nbformat\n",
    "statsmodels\n",
    "```\n"
   ]
  },
  {
   "cell_type": "markdown",
   "id": "97821727",
   "metadata": {
    "slideshow": {
     "slide_type": "slide"
    },
    "vscode": {
     "languageId": "plaintext"
    }
   },
   "source": [
    "## Jupyter, continued\n",
    "\n",
    "1. [Create a `lecture_16_example.ipynb` file.](https://code.visualstudio.com/docs/datascience/jupyter-notebooks#_create-or-open-a-jupyter-notebook)\n",
    "1. _Walk through the Jupyter interface._\n",
    "1. Copy in [this example](https://plotly.com/python/linear-fits/#Linear-fit-trendlines-with-Plotly-Express).\n",
    "1. [Run it.](https://code.visualstudio.com/docs/datascience/jupyter-notebooks#_running-cells)\n",
    "   1. [Select the kernel.](https://code.visualstudio.com/docs/datascience/jupyter-notebooks#_create-or-open-a-jupyter-notebook)\n",
    "   1. Click `Install suggested extensions`, if it asks.\n",
    "   1. Click `Python Environments…`.\n",
    "   1. Select the `python` under the virtual environment.\n",
    "      - Mac: `.venv/bin/python`\n",
    "      - Windows: `.venv\\Scripts\\python.exe`\n"
   ]
  },
  {
   "cell_type": "markdown",
   "id": "105a50c0",
   "metadata": {
    "slideshow": {
     "slide_type": "subslide"
    }
   },
   "source": [
    "### Common issues\n",
    "\n",
    "We've run into issues with being unable to [select the kernel](https://code.visualstudio.com/docs/datascience/jupyter-notebooks#_create-or-open-a-jupyter-notebook). Try each of the following:\n",
    "\n",
    "- Ensure you're on the latest versions of:\n",
    "  - [VSCode](https://code.visualstudio.com/docs/setup/setup-overview#_update-cadence)\n",
    "  - [The extensions](https://code.visualstudio.com/docs/configure/extensions/extension-marketplace#_extensions-view-filter-and-commands)\n",
    "- Restart VSCode (quitting the full app, not just the window).\n",
    "- Mac: Make sure VSCode isn't in your `Downloads` folder — drag it to `Applications`.\n",
    "- Confirm that [the packages were installed in the virtual environment](#repository-setup), not [globally](https://packaging.python.org/en/latest/tutorials/installing-packages/#creating-virtual-environments).\n"
   ]
  },
  {
   "cell_type": "markdown",
   "id": "46579320",
   "metadata": {
    "slideshow": {
     "slide_type": "subslide"
    }
   },
   "source": [
    "### Using multiple cells\n",
    "\n",
    "_Show each step in their own cell:_\n",
    "\n",
    "1. _Data loading_\n",
    "1. _Displaying the `df`_\n",
    "1. _Creating the chart_\n"
   ]
  },
  {
   "cell_type": "markdown",
   "id": "50af17aa",
   "metadata": {
    "slideshow": {
     "slide_type": "subslide"
    }
   },
   "source": [
    "FYI `px.data.tips()` loads one of [Plotly's sample datasets](https://plotly.com/python-api-reference/generated/plotly.express.data.html). That's not needed when plotting other datasets.\n"
   ]
  },
  {
   "cell_type": "markdown",
   "id": "9a777afc",
   "metadata": {
    "slideshow": {
     "slide_type": "subslide"
    }
   },
   "source": [
    "We'll learn more about pandas and plotly soon.\n"
   ]
  },
  {
   "cell_type": "markdown",
   "id": "79142ae0",
   "metadata": {
    "editable": true,
    "slideshow": {
     "slide_type": "subslide"
    },
    "tags": []
   },
   "source": [
    "### Jupyter basics\n",
    "\n",
    "A \"cell\" can be either code or [Markdown](https://www.markdownguide.org/getting-started/) (text). Raw Markdown looks like this:\n",
    "\n",
    "```\n",
    "## A heading\n",
    "\n",
    "Plain text\n",
    "\n",
    "[A link](https://somewhere.com)\n",
    "```\n"
   ]
  },
  {
   "cell_type": "markdown",
   "id": "8b3f7345",
   "metadata": {
    "editable": true,
    "slideshow": {
     "slide_type": "subslide"
    },
    "tags": []
   },
   "source": [
    "#### Running\n",
    "\n",
    "- You \"run\" a cell by either:\n",
    "  - Pressing the ▶️ button\n",
    "  - Pressing `Control`+`Enter` on your keyboard\n",
    "- Cells don't run unless you tell them to, in the order you do so\n",
    "  - Generally, you want to do so from the top every time you open a notebook\n"
   ]
  },
  {
   "cell_type": "markdown",
   "id": "417bd6d2",
   "metadata": {
    "editable": true,
    "slideshow": {
     "slide_type": "subslide"
    },
    "tags": []
   },
   "source": [
    "#### Output\n",
    "\n",
    "- The last thing in a code cell is what gets displayed when it's run\n",
    "- The output gets saved as part of the notebook\n",
    "- Just because there's existing output from a cell, doesn't mean that cell has been run during this session\n"
   ]
  },
  {
   "cell_type": "markdown",
   "id": "09618334-b8e2-49b7-b4e6-a8f86211b203",
   "metadata": {
    "editable": true,
    "slideshow": {
     "slide_type": "subslide"
    },
    "tags": []
   },
   "source": [
    "### Hosted notebooks\n"
   ]
  },
  {
   "cell_type": "markdown",
   "id": "1682137f-f3b7-4ac3-bd06-d1fc53d85fe4",
   "metadata": {
    "editable": true,
    "slideshow": {
     "slide_type": ""
    },
    "tags": []
   },
   "source": [
    "Jupyter can run on on your computer (“local”), or in the cloud somewhere. [Many options.](https://python-public-policy.afeld.me/en/columbia/resources.html#jupyter-outside-this-course)\n"
   ]
  },
  {
   "cell_type": "markdown",
   "id": "eeba53a6",
   "metadata": {
    "editable": true,
    "slideshow": {
     "slide_type": "subslide"
    },
    "tags": []
   },
   "source": [
    "### Some best practices\n",
    "\n",
    "- Make variable names descriptive\n",
    "- Only do one thing per line\n",
    "  - Makes troubleshooting easier\n",
    "- Make notebooks [idempotent](https://en.wikipedia.org/wiki/Idempotence)\n",
    "  - Makes your work reproducible\n",
    "  - Use `Restart` then `Run all` buttons in toolbar\n"
   ]
  }
 ],
 "metadata": {
  "kernelspec": {
   "display_name": "Python 3 (ipykernel)",
   "language": "python",
   "name": "python3"
  },
  "language_info": {
   "codemirror_mode": {
    "name": "ipython",
    "version": 3
   },
   "file_extension": ".py",
   "mimetype": "text/x-python",
   "name": "python",
   "nbconvert_exporter": "python",
   "pygments_lexer": "ipython3",
   "version": "3.14.0"
  }
 },
 "nbformat": 4,
 "nbformat_minor": 5
}
